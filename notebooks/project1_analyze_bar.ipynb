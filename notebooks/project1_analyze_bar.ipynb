{
 "cells": [
  {
   "cell_type": "code",
   "execution_count": 1,
   "metadata": {},
   "outputs": [],
   "source": [
    "import pandas as pd\n",
    "\n",
    "%load_ext rpy2.ipython"
   ]
  },
  {
   "cell_type": "code",
   "execution_count": 2,
   "metadata": {},
   "outputs": [
    {
     "data": {
      "text/html": [
       "<div>\n",
       "<style scoped>\n",
       "    .dataframe tbody tr th:only-of-type {\n",
       "        vertical-align: middle;\n",
       "    }\n",
       "\n",
       "    .dataframe tbody tr th {\n",
       "        vertical-align: top;\n",
       "    }\n",
       "\n",
       "    .dataframe thead th {\n",
       "        text-align: right;\n",
       "    }\n",
       "</style>\n",
       "<table border=\"1\" class=\"dataframe\">\n",
       "  <thead>\n",
       "    <tr style=\"text-align: right;\">\n",
       "      <th></th>\n",
       "      <th>name</th>\n",
       "      <th>department_name</th>\n",
       "      <th>title</th>\n",
       "      <th>regular</th>\n",
       "      <th>retro</th>\n",
       "      <th>other</th>\n",
       "      <th>overtime</th>\n",
       "      <th>injured</th>\n",
       "      <th>detail</th>\n",
       "      <th>quinn</th>\n",
       "      <th>total_earnings</th>\n",
       "      <th>zip</th>\n",
       "      <th>year</th>\n",
       "      <th>allegations</th>\n",
       "      <th>sustained</th>\n",
       "      <th>promotion</th>\n",
       "    </tr>\n",
       "  </thead>\n",
       "  <tbody>\n",
       "    <tr>\n",
       "      <th>0</th>\n",
       "      <td>abascianojoseph</td>\n",
       "      <td>Boston Police Department</td>\n",
       "      <td>Police Officer</td>\n",
       "      <td>$68181.24</td>\n",
       "      <td>$0.00</td>\n",
       "      <td>$3763.50</td>\n",
       "      <td>$14177.65</td>\n",
       "      <td>$0.00</td>\n",
       "      <td>$4867.00</td>\n",
       "      <td>$0.00</td>\n",
       "      <td>90989.39</td>\n",
       "      <td>02132-3802</td>\n",
       "      <td>2011</td>\n",
       "      <td>2</td>\n",
       "      <td>0</td>\n",
       "      <td>0</td>\n",
       "    </tr>\n",
       "    <tr>\n",
       "      <th>1</th>\n",
       "      <td>abascianojoseph</td>\n",
       "      <td>Boston Police Department</td>\n",
       "      <td>Police Officer</td>\n",
       "      <td>$69432.97</td>\n",
       "      <td>$0.00</td>\n",
       "      <td>$800.00</td>\n",
       "      <td>$16767.14</td>\n",
       "      <td>$0.00</td>\n",
       "      <td>$1767.00</td>\n",
       "      <td>$0.00</td>\n",
       "      <td>88767.11</td>\n",
       "      <td>02132-3802</td>\n",
       "      <td>2012</td>\n",
       "      <td>0</td>\n",
       "      <td>0</td>\n",
       "      <td>0</td>\n",
       "    </tr>\n",
       "    <tr>\n",
       "      <th>2</th>\n",
       "      <td>abascianojoseph</td>\n",
       "      <td>Boston Police Department</td>\n",
       "      <td>Police Officer</td>\n",
       "      <td>$66673.45</td>\n",
       "      <td>$0.00</td>\n",
       "      <td>$800.00</td>\n",
       "      <td>$20318.50</td>\n",
       "      <td>$3163.30</td>\n",
       "      <td>$890.00</td>\n",
       "      <td>$0.00</td>\n",
       "      <td>91845.25</td>\n",
       "      <td>02132-3802</td>\n",
       "      <td>2013</td>\n",
       "      <td>1</td>\n",
       "      <td>0</td>\n",
       "      <td>0</td>\n",
       "    </tr>\n",
       "    <tr>\n",
       "      <th>3</th>\n",
       "      <td>abascianojoseph</td>\n",
       "      <td>Boston Police Department</td>\n",
       "      <td>Police Officer</td>\n",
       "      <td>$19469.90</td>\n",
       "      <td>$10200.36</td>\n",
       "      <td>$1491.24</td>\n",
       "      <td>$2565.64</td>\n",
       "      <td>$60753.78</td>\n",
       "      <td>$2553.00</td>\n",
       "      <td>$825.04</td>\n",
       "      <td>97858.96</td>\n",
       "      <td>02132</td>\n",
       "      <td>2014</td>\n",
       "      <td>0</td>\n",
       "      <td>0</td>\n",
       "      <td>0</td>\n",
       "    </tr>\n",
       "    <tr>\n",
       "      <th>4</th>\n",
       "      <td>abascianojoseph</td>\n",
       "      <td>Boston Police Department</td>\n",
       "      <td>Police Officer</td>\n",
       "      <td>$-886.20</td>\n",
       "      <td>$0.00</td>\n",
       "      <td>$8088.35</td>\n",
       "      <td>$544.83</td>\n",
       "      <td>$81996.78</td>\n",
       "      <td>$0.00</td>\n",
       "      <td>$20667.80</td>\n",
       "      <td>110411.56</td>\n",
       "      <td>02132</td>\n",
       "      <td>2015</td>\n",
       "      <td>0</td>\n",
       "      <td>0</td>\n",
       "      <td>0</td>\n",
       "    </tr>\n",
       "  </tbody>\n",
       "</table>\n",
       "</div>"
      ],
      "text/plain": [
       "              name           department_name           title    regular  \\\n",
       "0  abascianojoseph  Boston Police Department  Police Officer  $68181.24   \n",
       "1  abascianojoseph  Boston Police Department  Police Officer  $69432.97   \n",
       "2  abascianojoseph  Boston Police Department  Police Officer  $66673.45   \n",
       "3  abascianojoseph  Boston Police Department  Police Officer  $19469.90   \n",
       "4  abascianojoseph  Boston Police Department  Police Officer   $-886.20   \n",
       "\n",
       "       retro     other   overtime    injured    detail      quinn  \\\n",
       "0      $0.00  $3763.50  $14177.65      $0.00  $4867.00      $0.00   \n",
       "1      $0.00   $800.00  $16767.14      $0.00  $1767.00      $0.00   \n",
       "2      $0.00   $800.00  $20318.50   $3163.30   $890.00      $0.00   \n",
       "3  $10200.36  $1491.24   $2565.64  $60753.78  $2553.00    $825.04   \n",
       "4      $0.00  $8088.35    $544.83  $81996.78     $0.00  $20667.80   \n",
       "\n",
       "   total_earnings         zip  year  allegations  sustained  promotion  \n",
       "0        90989.39  02132-3802  2011            2          0          0  \n",
       "1        88767.11  02132-3802  2012            0          0          0  \n",
       "2        91845.25  02132-3802  2013            1          0          0  \n",
       "3        97858.96       02132  2014            0          0          0  \n",
       "4       110411.56       02132  2015            0          0          0  "
      ]
     },
     "execution_count": 2,
     "metadata": {},
     "output_type": "execute_result"
    }
   ],
   "source": [
    "df = pd.read_csv('../data_prep/bpd_prepped.csv')\n",
    "df.head()"
   ]
  },
  {
   "cell_type": "code",
   "execution_count": 3,
   "metadata": {},
   "outputs": [
    {
     "data": {
      "text/plain": [
       "(25522,)"
      ]
     },
     "execution_count": 3,
     "metadata": {},
     "output_type": "execute_result"
    }
   ],
   "source": [
    "verdicts = df.sustained.values\n",
    "verdicts.shape"
   ]
  },
  {
   "cell_type": "code",
   "execution_count": 4,
   "metadata": {},
   "outputs": [],
   "source": [
    "guilty_previously = [0] * len(verdicts)\n",
    "current_guy = df['name'][0]\n",
    "known_offender = 0\n",
    "for i in range (1, len(guilty_previously)-1):\n",
    "    if df['name'][i] == current_guy:\n",
    "\n",
    "        if verdicts[i-1] == 1 or known_offender == 1:\n",
    "            guilty_previously[i] = 1\n",
    "            known_offender = 1\n",
    "    else:\n",
    "        current_guy = df['name'][i]\n",
    "        known_offender = 0"
   ]
  },
  {
   "cell_type": "code",
   "execution_count": 5,
   "metadata": {},
   "outputs": [],
   "source": [
    "df['known_offender'] = guilty_previously"
   ]
  },
  {
   "cell_type": "code",
   "execution_count": 6,
   "metadata": {},
   "outputs": [],
   "source": [
    "known_off_df = df[df.known_offender == 1]\n"
   ]
  },
  {
   "cell_type": "code",
   "execution_count": 7,
   "metadata": {},
   "outputs": [],
   "source": [
    "years = known_off_df.year.value_counts().sort_index().index\n",
    "total = known_off_df.year.value_counts().sort_index().sum()\n",
    "prom = known_off_df.promotion.sum()\n",
    "rate = prom/total\n",
    "\n",
    "known_off_graph = pd.DataFrame({'total': total, 'promoted': prom, 'rate': rate, 'known_offender': \"Known Offenders\"}, index =[0])"
   ]
  },
  {
   "cell_type": "code",
   "execution_count": 8,
   "metadata": {},
   "outputs": [],
   "source": [
    "non_off_df = df[df.known_offender == 0]"
   ]
  },
  {
   "cell_type": "code",
   "execution_count": 9,
   "metadata": {},
   "outputs": [],
   "source": [
    "years = non_off_df.year.value_counts().sort_index().index\n",
    "total = non_off_df.year.value_counts().sort_index().sum()\n",
    "prom = non_off_df.promotion.sum()\n",
    "rate = prom/total\n",
    "\n",
    "non_off_graph = pd.DataFrame({'total': total, 'promoted': prom, 'rate': rate, 'known_offender': \"Non-offenders\"}, index=[0])"
   ]
  },
  {
   "cell_type": "code",
   "execution_count": 10,
   "metadata": {},
   "outputs": [
    {
     "data": {
      "text/html": [
       "<div>\n",
       "<style scoped>\n",
       "    .dataframe tbody tr th:only-of-type {\n",
       "        vertical-align: middle;\n",
       "    }\n",
       "\n",
       "    .dataframe tbody tr th {\n",
       "        vertical-align: top;\n",
       "    }\n",
       "\n",
       "    .dataframe thead th {\n",
       "        text-align: right;\n",
       "    }\n",
       "</style>\n",
       "<table border=\"1\" class=\"dataframe\">\n",
       "  <thead>\n",
       "    <tr style=\"text-align: right;\">\n",
       "      <th></th>\n",
       "      <th>total</th>\n",
       "      <th>promoted</th>\n",
       "      <th>rate</th>\n",
       "      <th>known_offender</th>\n",
       "    </tr>\n",
       "  </thead>\n",
       "  <tbody>\n",
       "    <tr>\n",
       "      <th>0</th>\n",
       "      <td>23384</td>\n",
       "      <td>988</td>\n",
       "      <td>0.042251</td>\n",
       "      <td>Non-offenders</td>\n",
       "    </tr>\n",
       "  </tbody>\n",
       "</table>\n",
       "</div>"
      ],
      "text/plain": [
       "   total  promoted      rate known_offender\n",
       "0  23384       988  0.042251  Non-offenders"
      ]
     },
     "execution_count": 10,
     "metadata": {},
     "output_type": "execute_result"
    }
   ],
   "source": [
    "non_off_graph"
   ]
  },
  {
   "cell_type": "code",
   "execution_count": 11,
   "metadata": {},
   "outputs": [
    {
     "data": {
      "text/html": [
       "<div>\n",
       "<style scoped>\n",
       "    .dataframe tbody tr th:only-of-type {\n",
       "        vertical-align: middle;\n",
       "    }\n",
       "\n",
       "    .dataframe tbody tr th {\n",
       "        vertical-align: top;\n",
       "    }\n",
       "\n",
       "    .dataframe thead th {\n",
       "        text-align: right;\n",
       "    }\n",
       "</style>\n",
       "<table border=\"1\" class=\"dataframe\">\n",
       "  <thead>\n",
       "    <tr style=\"text-align: right;\">\n",
       "      <th></th>\n",
       "      <th>total</th>\n",
       "      <th>promoted</th>\n",
       "      <th>rate</th>\n",
       "      <th>known_offender</th>\n",
       "    </tr>\n",
       "  </thead>\n",
       "  <tbody>\n",
       "    <tr>\n",
       "      <th>0</th>\n",
       "      <td>23384</td>\n",
       "      <td>988</td>\n",
       "      <td>0.042251</td>\n",
       "      <td>Non-offenders</td>\n",
       "    </tr>\n",
       "    <tr>\n",
       "      <th>1</th>\n",
       "      <td>2138</td>\n",
       "      <td>90</td>\n",
       "      <td>0.042095</td>\n",
       "      <td>Known Offenders</td>\n",
       "    </tr>\n",
       "  </tbody>\n",
       "</table>\n",
       "</div>"
      ],
      "text/plain": [
       "   total  promoted      rate   known_offender\n",
       "0  23384       988  0.042251    Non-offenders\n",
       "1   2138        90  0.042095  Known Offenders"
      ]
     },
     "execution_count": 11,
     "metadata": {},
     "output_type": "execute_result"
    }
   ],
   "source": [
    "graph = pd.concat([non_off_graph, known_off_graph], ignore_index=True)\n",
    "\n",
    "graph.head(30)\n"
   ]
  },
  {
   "cell_type": "code",
   "execution_count": 12,
   "metadata": {},
   "outputs": [],
   "source": [
    "%%R -i graph \n",
    "\n",
    "library(ggplot2)\n",
    "library(ggthemes)\n",
    "library(stringr)\n",
    "ggplot(graph) +\n",
    "aes(x=known_offender, y=rate, fill=factor(known_offender)) +\n",
    "#facet_wrap(~known_offender, as.table=FALSE) +\n",
    "scale_x_discrete(limits=rev) +\n",
    "geom_bar(stat=\"identity\", position=\"dodge\") +\n",
    "theme_solarized() +\n",
    "labs(title=str_wrap(\"In the last 10 years, the BPD has promoted officers at a consistent rate, regardless of whether or not it has found them guilty of misconduct\",40),x=element_blank(), y=\"Promotion Rate\") +\n",
    "guides(fill=element_blank()) +\n",
    "scale_fill_brewer(palette=\"Dark2\") +\n",
    "theme(strip.text.x = element_blank(), legend.position=\"none\")\n",
    "\n",
    "\n",
    "ggsave(\"../output/known_offender.png\", width=4, height=6)\n",
    "\n"
   ]
  }
 ],
 "metadata": {
  "kernelspec": {
   "display_name": "Python 3",
   "language": "python",
   "name": "python3"
  },
  "language_info": {
   "codemirror_mode": {
    "name": "ipython",
    "version": 3
   },
   "file_extension": ".py",
   "mimetype": "text/x-python",
   "name": "python",
   "nbconvert_exporter": "python",
   "pygments_lexer": "ipython3",
   "version": "3.10.9"
  },
  "orig_nbformat": 4,
  "vscode": {
   "interpreter": {
    "hash": "55bb2e752bce1f83d155019f390a3b6bd4334aa917531e596a59913e83dcc58a"
   }
  }
 },
 "nbformat": 4,
 "nbformat_minor": 2
}
